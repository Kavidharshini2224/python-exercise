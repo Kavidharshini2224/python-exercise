In [1]:	
import sqlite3
import pandas as pd
conn = sqlite3.connect("students.db")
cursor = conn.cursor()
cursor.execute('''
    CREATE TABLE IF NOT EXISTS students (
        id INTEGER PRIMARY KEY AUTOINCREMENT,
        name TEXT NOT NULL,
        age INTEGER NOT NULL
    )
''')
conn.commit()
print("Database and table created successfully!")
def insert_student(name, age):
    cursor.execute("INSERT INTO students (name, age) VALUES (?, ?)", (name, age))
    conn.commit()
    print(f"Student '{name}' added successfully!")
n = int(input("How many students do you want to add? "))
for _ in range(n):
    name = input("Enter student name: ")
    age = int(input("Enter student age: "))
    insert_student(name, age)
df = pd.read_sql("SELECT * FROM students", conn)
print("\nStudent Records:")
print(df)
conn.close()
print("Database connection closed.")
Database and table created successfully!
Student 'Hemanth' added successfully!
Student 'Vivek' added successfully!
Student 'vijay' added successfully!
Student 'bharani' added successfully!
Student 'naveen' added successfully!

Student Records:
   id     name  age
0   1  Hemanth   17
1   2    Vivek   21
2   3    vijay   25
3   4  bharani   23
4   5   naveen   21
Database connection closed.
